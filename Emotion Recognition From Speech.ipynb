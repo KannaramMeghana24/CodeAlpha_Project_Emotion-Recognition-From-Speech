{
 "cells": [
  {
   "cell_type": "code",
   "execution_count": 2,
   "id": "798d0649-c3cc-4637-ab37-e7c1f46e8415",
   "metadata": {},
   "outputs": [],
   "source": [
    "import os\n",
    "import zipfile\n",
    "import librosa\n",
    "import librosa.display\n",
    "import numpy as np\n",
    "import pandas as pd\n",
    "import matplotlib.pyplot as plt\n",
    "import seaborn as sns\n",
    "import tensorflow as tf\n",
    "from tensorflow.keras.models import Sequential\n",
    "from tensorflow.keras.layers import Dense, Dropout, LSTM\n",
    "from sklearn.model_selection import train_test_split\n",
    "from sklearn.preprocessing import LabelEncoder\n",
    "from sklearn.metrics import classification_report, confusion_matrix\n"
   ]
  },
  {
   "cell_type": "code",
   "execution_count": 4,
   "id": "a55bb7a7-e044-4533-9fca-fee61bfd7e84",
   "metadata": {},
   "outputs": [
    {
     "name": "stdout",
     "output_type": "stream",
     "text": [
      "Requirement already satisfied: numpy<2 in c:\\users\\k.meghana\\jupyter\\lib\\site-packages (1.26.4)\n",
      "Note: you may need to restart the kernel to use updated packages.\n"
     ]
    }
   ],
   "source": [
    "pip install \"numpy<2\"\n"
   ]
  },
  {
   "cell_type": "code",
   "execution_count": 6,
   "id": "23356920-aca5-49db-9a66-1b40b7771c52",
   "metadata": {},
   "outputs": [],
   "source": [
    "\n",
    "# Extract dataset if still in ZIP format\n",
    "zip_path = \"C:\\\\Users\\\\K.Meghana\\\\Desktop\\\\archive (2).zip\"\n",
    "extract_dir = \"ravdess\"\n",
    "\n",
    "if not os.path.exists(extract_dir):  # Extract only if not already extracted\n",
    "    with zipfile.ZipFile(zip_path, \"r\") as zip_ref:\n",
    "        zip_ref.extractall(extract_dir)\n"
   ]
  },
  {
   "cell_type": "code",
   "execution_count": 8,
   "id": "44fa3e74-6f01-447e-9ff4-f556dcdf5ee5",
   "metadata": {},
   "outputs": [],
   "source": [
    "# Load dataset (RAVDESS)\n",
    "audio_files = []\n",
    "labels = []"
   ]
  },
  {
   "cell_type": "code",
   "execution_count": 10,
   "id": "d1cec86d-9f96-44f7-9b49-1a2ff56cf733",
   "metadata": {},
   "outputs": [],
   "source": [
    "# RAVDESS naming convention: '03-01-06-02-02-01-12.wav' (emotion class is the third number)\n",
    "for folder in os.listdir(extract_dir):\n",
    "    folder_path = os.path.join(extract_dir, folder)\n",
    "    if os.path.isdir(folder_path):\n",
    "        for file in os.listdir(folder_path):\n",
    "            if file.endswith(\".wav\"):\n",
    "                file_path = os.path.join(folder_path, file)\n",
    "                if os.path.exists(file_path):  # Check if file exists\n",
    "                    emotion = int(file.split(\"-\")[2]) - 1  # Convert to zero-indexed\n",
    "                    audio_files.append(file_path)\n",
    "                    labels.append(emotion)\n"
   ]
  },
  {
   "cell_type": "code",
   "execution_count": 12,
   "id": "9d4e81d6-0eea-44d4-96a7-c98f593ca81c",
   "metadata": {},
   "outputs": [],
   "source": [
    "# Convert to DataFrame\n",
    "df = pd.DataFrame({\"file\": audio_files, \"emotion\": labels})\n",
    "\n"
   ]
  },
  {
   "cell_type": "code",
   "execution_count": 14,
   "id": "027003c0-5ba4-45c0-9651-0ee40b99c734",
   "metadata": {},
   "outputs": [],
   "source": [
    "# Feature extraction (MFCCs)\n",
    "def extract_features(file_path, max_pad_len=100):\n",
    "    try:\n",
    "        audio, sample_rate = librosa.load(file_path, res_type='kaiser_fast')\n",
    "        mfccs = librosa.feature.mfcc(y=audio, sr=sample_rate, n_mfcc=40)\n",
    "        pad_width = max_pad_len - mfccs.shape[1]\n",
    "        if pad_width > 0:\n",
    "            mfccs = np.pad(mfccs, pad_width=((0, 0), (0, pad_width)), mode='constant')\n",
    "        else:\n",
    "            mfccs = mfccs[:, :max_pad_len]\n",
    "        return mfccs\n",
    "    except Exception as e:\n",
    "        print(f\"Error processing {file_path}: {e}\")\n",
    "        return np.zeros((40, max_pad_len))\n",
    "\n",
    "X = np.array([extract_features(file) for file in df['file']])\n",
    "y = np.array(df['emotion'])\n"
   ]
  },
  {
   "cell_type": "code",
   "execution_count": 18,
   "id": "85711da1-219f-454e-ad33-2ded0811e3a0",
   "metadata": {},
   "outputs": [],
   "source": [
    "# Encode labels\n",
    "encoder = LabelEncoder()\n",
    "y = encoder.fit_transform(y)\n"
   ]
  },
  {
   "cell_type": "code",
   "execution_count": 20,
   "id": "23d34728-af2d-4c61-b3e2-e4665985e13d",
   "metadata": {},
   "outputs": [],
   "source": [
    "# Train-test split\n",
    "X_train, X_test, y_train, y_test = train_test_split(X, y, test_size=0.2, random_state=42)\n"
   ]
  },
  {
   "cell_type": "code",
   "execution_count": 22,
   "id": "84d43e77-37d4-4a2e-a54a-02d60d016b47",
   "metadata": {},
   "outputs": [],
   "source": [
    "# Reshape input for LSTM (samples, time steps, features)\n",
    "X_train = X_train.reshape(X_train.shape[0], X_train.shape[1], X_train.shape[2])\n",
    "X_test = X_test.reshape(X_test.shape[0], X_test.shape[1], X_test.shape[2])\n"
   ]
  },
  {
   "cell_type": "code",
   "execution_count": 24,
   "id": "748a71fd-2771-4904-9ff9-2df1b3e10f37",
   "metadata": {},
   "outputs": [
    {
     "name": "stderr",
     "output_type": "stream",
     "text": [
      "C:\\Users\\K.Meghana\\jupyter\\Lib\\site-packages\\keras\\src\\layers\\rnn\\rnn.py:200: UserWarning: Do not pass an `input_shape`/`input_dim` argument to a layer. When using Sequential models, prefer using an `Input(shape)` object as the first layer in the model instead.\n",
      "  super().__init__(**kwargs)\n"
     ]
    }
   ],
   "source": [
    "# Build LSTM model\n",
    "model = Sequential([\n",
    "    LSTM(128, return_sequences=True, input_shape=(X_train.shape[1], X_train.shape[2])),\n",
    "    Dropout(0.3),\n",
    "    LSTM(64, return_sequences=False),\n",
    "    Dropout(0.3),\n",
    "    Dense(32, activation='relu'),\n",
    "    Dense(len(set(y)), activation='softmax')\n",
    "])"
   ]
  },
  {
   "cell_type": "code",
   "execution_count": 26,
   "id": "3f1bb12e-eadd-4a5d-9fae-042d657e04af",
   "metadata": {},
   "outputs": [],
   "source": [
    "# Compile model\n",
    "model.compile(loss='sparse_categorical_crossentropy', optimizer='adam', metrics=['accuracy'])\n"
   ]
  },
  {
   "cell_type": "code",
   "execution_count": 28,
   "id": "faf67292-1bc0-4ad7-8cff-08e2c15ec1d7",
   "metadata": {},
   "outputs": [
    {
     "name": "stdout",
     "output_type": "stream",
     "text": [
      "Epoch 1/30\n",
      "\u001b[1m36/36\u001b[0m \u001b[32m━━━━━━━━━━━━━━━━━━━━\u001b[0m\u001b[37m\u001b[0m \u001b[1m14s\u001b[0m 103ms/step - accuracy: 0.1384 - loss: 2.0715 - val_accuracy: 0.1771 - val_loss: 2.0510\n",
      "Epoch 2/30\n",
      "\u001b[1m36/36\u001b[0m \u001b[32m━━━━━━━━━━━━━━━━━━━━\u001b[0m\u001b[37m\u001b[0m \u001b[1m2s\u001b[0m 63ms/step - accuracy: 0.2809 - loss: 1.9593 - val_accuracy: 0.2431 - val_loss: 1.9904\n",
      "Epoch 3/30\n",
      "\u001b[1m36/36\u001b[0m \u001b[32m━━━━━━━━━━━━━━━━━━━━\u001b[0m\u001b[37m\u001b[0m \u001b[1m2s\u001b[0m 64ms/step - accuracy: 0.3780 - loss: 1.8066 - val_accuracy: 0.2778 - val_loss: 1.8959\n",
      "Epoch 4/30\n",
      "\u001b[1m36/36\u001b[0m \u001b[32m━━━━━━━━━━━━━━━━━━━━\u001b[0m\u001b[37m\u001b[0m \u001b[1m2s\u001b[0m 64ms/step - accuracy: 0.4724 - loss: 1.5706 - val_accuracy: 0.2917 - val_loss: 1.9030\n",
      "Epoch 5/30\n",
      "\u001b[1m36/36\u001b[0m \u001b[32m━━━━━━━━━━━━━━━━━━━━\u001b[0m\u001b[37m\u001b[0m \u001b[1m2s\u001b[0m 65ms/step - accuracy: 0.5959 - loss: 1.2690 - val_accuracy: 0.3194 - val_loss: 1.8502\n",
      "Epoch 6/30\n",
      "\u001b[1m36/36\u001b[0m \u001b[32m━━━━━━━━━━━━━━━━━━━━\u001b[0m\u001b[37m\u001b[0m \u001b[1m2s\u001b[0m 62ms/step - accuracy: 0.6445 - loss: 1.0560 - val_accuracy: 0.3333 - val_loss: 1.9012\n",
      "Epoch 7/30\n",
      "\u001b[1m36/36\u001b[0m \u001b[32m━━━━━━━━━━━━━━━━━━━━\u001b[0m\u001b[37m\u001b[0m \u001b[1m3s\u001b[0m 72ms/step - accuracy: 0.7360 - loss: 0.8343 - val_accuracy: 0.3438 - val_loss: 2.0934\n",
      "Epoch 8/30\n",
      "\u001b[1m36/36\u001b[0m \u001b[32m━━━━━━━━━━━━━━━━━━━━\u001b[0m\u001b[37m\u001b[0m \u001b[1m2s\u001b[0m 64ms/step - accuracy: 0.8053 - loss: 0.6537 - val_accuracy: 0.3438 - val_loss: 2.2101\n",
      "Epoch 9/30\n",
      "\u001b[1m36/36\u001b[0m \u001b[32m━━━━━━━━━━━━━━━━━━━━\u001b[0m\u001b[37m\u001b[0m \u001b[1m2s\u001b[0m 61ms/step - accuracy: 0.8539 - loss: 0.4759 - val_accuracy: 0.3090 - val_loss: 2.3918\n",
      "Epoch 10/30\n",
      "\u001b[1m36/36\u001b[0m \u001b[32m━━━━━━━━━━━━━━━━━━━━\u001b[0m\u001b[37m\u001b[0m \u001b[1m2s\u001b[0m 67ms/step - accuracy: 0.8619 - loss: 0.4489 - val_accuracy: 0.3056 - val_loss: 2.4697\n",
      "Epoch 11/30\n",
      "\u001b[1m36/36\u001b[0m \u001b[32m━━━━━━━━━━━━━━━━━━━━\u001b[0m\u001b[37m\u001b[0m \u001b[1m2s\u001b[0m 66ms/step - accuracy: 0.8842 - loss: 0.3787 - val_accuracy: 0.3507 - val_loss: 2.6742\n",
      "Epoch 12/30\n",
      "\u001b[1m36/36\u001b[0m \u001b[32m━━━━━━━━━━━━━━━━━━━━\u001b[0m\u001b[37m\u001b[0m \u001b[1m3s\u001b[0m 68ms/step - accuracy: 0.9250 - loss: 0.2615 - val_accuracy: 0.3021 - val_loss: 2.8050\n",
      "Epoch 13/30\n",
      "\u001b[1m36/36\u001b[0m \u001b[32m━━━━━━━━━━━━━━━━━━━━\u001b[0m\u001b[37m\u001b[0m \u001b[1m3s\u001b[0m 69ms/step - accuracy: 0.9296 - loss: 0.2500 - val_accuracy: 0.3090 - val_loss: 3.0090\n",
      "Epoch 14/30\n",
      "\u001b[1m36/36\u001b[0m \u001b[32m━━━━━━━━━━━━━━━━━━━━\u001b[0m\u001b[37m\u001b[0m \u001b[1m3s\u001b[0m 68ms/step - accuracy: 0.9558 - loss: 0.1639 - val_accuracy: 0.3021 - val_loss: 2.9446\n",
      "Epoch 15/30\n",
      "\u001b[1m36/36\u001b[0m \u001b[32m━━━━━━━━━━━━━━━━━━━━\u001b[0m\u001b[37m\u001b[0m \u001b[1m3s\u001b[0m 68ms/step - accuracy: 0.9541 - loss: 0.1948 - val_accuracy: 0.3194 - val_loss: 2.9790\n",
      "Epoch 16/30\n",
      "\u001b[1m36/36\u001b[0m \u001b[32m━━━━━━━━━━━━━━━━━━━━\u001b[0m\u001b[37m\u001b[0m \u001b[1m2s\u001b[0m 66ms/step - accuracy: 0.9540 - loss: 0.1851 - val_accuracy: 0.3056 - val_loss: 3.4082\n",
      "Epoch 17/30\n",
      "\u001b[1m36/36\u001b[0m \u001b[32m━━━━━━━━━━━━━━━━━━━━\u001b[0m\u001b[37m\u001b[0m \u001b[1m2s\u001b[0m 67ms/step - accuracy: 0.9310 - loss: 0.2148 - val_accuracy: 0.2812 - val_loss: 3.1014\n",
      "Epoch 18/30\n",
      "\u001b[1m36/36\u001b[0m \u001b[32m━━━━━━━━━━━━━━━━━━━━\u001b[0m\u001b[37m\u001b[0m \u001b[1m3s\u001b[0m 69ms/step - accuracy: 0.9443 - loss: 0.1822 - val_accuracy: 0.3021 - val_loss: 3.3783\n",
      "Epoch 19/30\n",
      "\u001b[1m36/36\u001b[0m \u001b[32m━━━━━━━━━━━━━━━━━━━━\u001b[0m\u001b[37m\u001b[0m \u001b[1m2s\u001b[0m 67ms/step - accuracy: 0.9659 - loss: 0.1245 - val_accuracy: 0.2569 - val_loss: 3.2848\n",
      "Epoch 20/30\n",
      "\u001b[1m36/36\u001b[0m \u001b[32m━━━━━━━━━━━━━━━━━━━━\u001b[0m\u001b[37m\u001b[0m \u001b[1m3s\u001b[0m 68ms/step - accuracy: 0.9496 - loss: 0.1445 - val_accuracy: 0.2882 - val_loss: 3.4440\n",
      "Epoch 21/30\n",
      "\u001b[1m36/36\u001b[0m \u001b[32m━━━━━━━━━━━━━━━━━━━━\u001b[0m\u001b[37m\u001b[0m \u001b[1m3s\u001b[0m 73ms/step - accuracy: 0.9460 - loss: 0.1661 - val_accuracy: 0.3021 - val_loss: 3.3410\n",
      "Epoch 22/30\n",
      "\u001b[1m36/36\u001b[0m \u001b[32m━━━━━━━━━━━━━━━━━━━━\u001b[0m\u001b[37m\u001b[0m \u001b[1m3s\u001b[0m 68ms/step - accuracy: 0.9650 - loss: 0.1067 - val_accuracy: 0.3264 - val_loss: 3.3565\n",
      "Epoch 23/30\n",
      "\u001b[1m36/36\u001b[0m \u001b[32m━━━━━━━━━━━━━━━━━━━━\u001b[0m\u001b[37m\u001b[0m \u001b[1m3s\u001b[0m 70ms/step - accuracy: 0.9764 - loss: 0.0822 - val_accuracy: 0.3160 - val_loss: 3.5166\n",
      "Epoch 24/30\n",
      "\u001b[1m36/36\u001b[0m \u001b[32m━━━━━━━━━━━━━━━━━━━━\u001b[0m\u001b[37m\u001b[0m \u001b[1m2s\u001b[0m 68ms/step - accuracy: 0.9904 - loss: 0.0574 - val_accuracy: 0.3438 - val_loss: 3.5731\n",
      "Epoch 25/30\n",
      "\u001b[1m36/36\u001b[0m \u001b[32m━━━━━━━━━━━━━━━━━━━━\u001b[0m\u001b[37m\u001b[0m \u001b[1m2s\u001b[0m 67ms/step - accuracy: 0.9848 - loss: 0.0524 - val_accuracy: 0.3368 - val_loss: 3.6365\n",
      "Epoch 26/30\n",
      "\u001b[1m36/36\u001b[0m \u001b[32m━━━━━━━━━━━━━━━━━━━━\u001b[0m\u001b[37m\u001b[0m \u001b[1m3s\u001b[0m 70ms/step - accuracy: 0.9831 - loss: 0.0705 - val_accuracy: 0.2986 - val_loss: 3.6919\n",
      "Epoch 27/30\n",
      "\u001b[1m36/36\u001b[0m \u001b[32m━━━━━━━━━━━━━━━━━━━━\u001b[0m\u001b[37m\u001b[0m \u001b[1m3s\u001b[0m 71ms/step - accuracy: 0.9815 - loss: 0.0599 - val_accuracy: 0.3403 - val_loss: 3.6500\n",
      "Epoch 28/30\n",
      "\u001b[1m36/36\u001b[0m \u001b[32m━━━━━━━━━━━━━━━━━━━━\u001b[0m\u001b[37m\u001b[0m \u001b[1m2s\u001b[0m 68ms/step - accuracy: 0.9894 - loss: 0.0553 - val_accuracy: 0.3542 - val_loss: 3.6168\n",
      "Epoch 29/30\n",
      "\u001b[1m36/36\u001b[0m \u001b[32m━━━━━━━━━━━━━━━━━━━━\u001b[0m\u001b[37m\u001b[0m \u001b[1m2s\u001b[0m 67ms/step - accuracy: 0.9929 - loss: 0.0313 - val_accuracy: 0.3438 - val_loss: 3.8034\n",
      "Epoch 30/30\n",
      "\u001b[1m36/36\u001b[0m \u001b[32m━━━━━━━━━━━━━━━━━━━━\u001b[0m\u001b[37m\u001b[0m \u001b[1m3s\u001b[0m 69ms/step - accuracy: 0.9986 - loss: 0.0222 - val_accuracy: 0.3403 - val_loss: 3.9603\n"
     ]
    }
   ],
   "source": [
    "# Train model\n",
    "history = model.fit(X_train, y_train, validation_data=(X_test, y_test), epochs=30, batch_size=32)\n",
    "\n"
   ]
  },
  {
   "cell_type": "code",
   "execution_count": 30,
   "id": "09b45646-9cc6-45cc-8b03-e5ff50a73537",
   "metadata": {},
   "outputs": [
    {
     "name": "stdout",
     "output_type": "stream",
     "text": [
      "\u001b[1m9/9\u001b[0m \u001b[32m━━━━━━━━━━━━━━━━━━━━\u001b[0m\u001b[37m\u001b[0m \u001b[1m1s\u001b[0m 31ms/step\n",
      "              precision    recall  f1-score   support\n",
      "\n",
      "           0       0.29      0.25      0.27        20\n",
      "           1       0.43      0.52      0.47        44\n",
      "           2       0.31      0.32      0.32        34\n",
      "           3       0.22      0.21      0.21        39\n",
      "           4       0.37      0.31      0.34        42\n",
      "           5       0.27      0.47      0.34        32\n",
      "           6       0.37      0.44      0.40        32\n",
      "           7       0.50      0.20      0.29        45\n",
      "\n",
      "    accuracy                           0.34       288\n",
      "   macro avg       0.35      0.34      0.33       288\n",
      "weighted avg       0.36      0.34      0.33       288\n",
      "\n"
     ]
    }
   ],
   "source": [
    "# Evaluate model\n",
    "y_pred = np.argmax(model.predict(X_test), axis=1)\n",
    "print(classification_report(y_test, y_pred))\n"
   ]
  },
  {
   "cell_type": "code",
   "execution_count": 32,
   "id": "43a85c26-6da8-4881-a8ac-70e43d3f17cf",
   "metadata": {},
   "outputs": [
    {
     "data": {
      "image/png": "[encoded data removed]",
      "text/plain": [
       "<Figure size 800x600 with 2 Axes>"
      ]
     },
     "metadata": {},
     "output_type": "display_data"
    }
   ],
   "source": [
    "# Confusion Matrix\n",
    "plt.figure(figsize=(8, 6))\n",
    "sns.heatmap(confusion_matrix(y_test, y_pred), annot=True, fmt='d', cmap='Blues')\n",
    "plt.xlabel('Predicted')\n",
    "plt.ylabel('Actual')\n",
    "plt.show()"
   ]
  },
  {
   "cell_type": "code",
   "execution_count": null,
   "id": "66e43ab3-9ed9-4177-843e-618f9ec29089",
   "metadata": {},
   "outputs": [],
   "source": []
  }
 ],
 "metadata": {
  "kernelspec": {
   "display_name": "Python 3 (ipykernel)",
   "language": "python",
   "name": "python3"
  },
  "language_info": {
   "codemirror_mode": {
    "name": "ipython",
    "version": 3
   },
   "file_extension": ".py",
   "mimetype": "text/x-python",
   "name": "python",
   "nbconvert_exporter": "python",
   "pygments_lexer": "ipython3",
   "version": "3.12.4"
  }
 },
 "nbformat": 4,
 "nbformat_minor": 5
}
